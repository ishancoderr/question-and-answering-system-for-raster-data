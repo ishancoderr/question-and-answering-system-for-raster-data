{
 "cells": [
  {
   "cell_type": "code",
   "execution_count": 13,
   "metadata": {},
   "outputs": [
    {
     "name": "stdout",
     "output_type": "stream",
     "text": [
      "Note: you may need to restart the kernel to use updated packages.\n"
     ]
    },
    {
     "name": "stderr",
     "output_type": "stream",
     "text": [
      "\n",
      "[notice] A new release of pip is available: 24.0 -> 24.3.1\n",
      "[notice] To update, run: python.exe -m pip install --upgrade pip\n"
     ]
    }
   ],
   "source": [
    "%pip install --upgrade --quiet  langchain langchain-community langchain-openai neo4j"
   ]
  },
  {
   "cell_type": "markdown",
   "metadata": {},
   "source": [
    "# Running Cypher Queries in Neo4j\n",
    "\n",
    "In this section, we will go through how to write and execute Cypher queries to interact with a Neo4j database. Cypher is a declarative graph query language used to interact with Neo4j databases."
   ]
  },
  {
   "cell_type": "code",
   "execution_count": 2,
   "metadata": {},
   "outputs": [
    {
     "name": "stdout",
     "output_type": "stream",
     "text": [
      "Error while creating database: {code: Neo.ClientError.Database.ExistingDatabaseFound} {message: Failed to create the specified database 'STACDBs': Database name or alias already exists.}\n",
      "Cypher script executed successfully.\n"
     ]
    }
   ],
   "source": [
    "from neo4j import GraphDatabase\n",
    "\n",
    "\n",
    "uri = \"bolt://localhost:7687\"\n",
    "user = \"neo4j\"\n",
    "password = \"new_password\"  \n",
    "db_name = \"STACDBs\"\n",
    "\n",
    "# Connect to the Neo4j instance\n",
    "driver = GraphDatabase.driver(uri, auth=(user, password))\n",
    "\n",
    "def create_database(driver, db_name):\n",
    "    with driver.session() as session:\n",
    "        try:\n",
    "            result = session.run(\"SHOW DATABASES\")\n",
    "            databases = [record[\"name\"] for record in result]\n",
    "            \n",
    "            if db_name not in databases:\n",
    "                session.run(f\"CREATE DATABASE {db_name}\")\n",
    "                print(f\"Database {db_name} created successfully.\")\n",
    "            else:\n",
    "                print(f\"Database {db_name} already exists.\")\n",
    "        except Exception as e:\n",
    "            print(f\"Error while creating database: {e}\")\n",
    "\n",
    "# Execute Cypher script\n",
    "def run_cypher_script(driver, db_name, script_path):\n",
    "    with driver.session(database=db_name) as session:\n",
    "        try:\n",
    "            with open(script_path, 'r') as file:\n",
    "                cypher_query = file.read()  \n",
    "                session.run(cypher_query)  \n",
    "            print(\"Cypher script executed successfully.\")\n",
    "        except Exception as e:\n",
    "            print(f\"Error executing Cypher script: {e}\")\n",
    "\n",
    "\n",
    "create_database(driver, db_name) \n",
    "run_cypher_script(driver, db_name, \"STAC.cypher\") "
   ]
  },
  {
   "cell_type": "markdown",
   "metadata": {},
   "source": [
    "## Step 1: Connect to the Neo4j Database\n",
    "\n",
    "To begin working with Neo4j, we need to connect to the Neo4j instance. Make sure that Neo4j is running and that you have the correct credentials.\n",
    "\n",
    "Here’s an example of how to connect to the database using Python's `neo4j` driver:"
   ]
  },
  {
   "cell_type": "code",
   "execution_count": 3,
   "metadata": {},
   "outputs": [
    {
     "name": "stdout",
     "output_type": "stream",
     "text": [
      "Databases under the Neo4j instance:\n",
      "Database: neo4j - Current Status: online - Status Message: \n",
      "Database: stacdbs - Current Status: online - Status Message: \n",
      "Database: system - Current Status: online - Status Message: \n"
     ]
    }
   ],
   "source": [
    "def run_cypher_script(driver, db_name, script_path):\n",
    "    with driver.session(database=db_name) as session:\n",
    "        try:\n",
    "            with open(script_path, 'r') as file:\n",
    "                cypher_query = file.read()  \n",
    "                session.run(cypher_query)  \n",
    "            print(\"Cypher script executed successfully.\")\n",
    "        except Exception as e:\n",
    "            print(f\"Error executing Cypher script: {e}\")\n",
    "\n",
    "try:\n",
    "    driver = GraphDatabase.driver(uri, auth=(user, password))\n",
    "\n",
    "    with driver.session() as session:\n",
    "        result = session.run(\"SHOW DATABASES\")\n",
    "        print(\"Databases under the Neo4j instance:\")\n",
    "        for record in result:\n",
    "            print(f\"Database: {record['name']} - Current Status: {record['currentStatus']} - Status Message: {record['statusMessage']}\")\n",
    "\n",
    "except Exception as e:\n",
    "    print(f\"Error connecting to Neo4j: {e}\")\n",
    "finally:\n",
    "    driver.close()\n"
   ]
  },
  {
   "cell_type": "markdown",
   "metadata": {},
   "source": [
    "## Deleting Specific Databases in Neo4j"
   ]
  },
  {
   "cell_type": "code",
   "execution_count": null,
   "metadata": {},
   "outputs": [
    {
     "name": "stdout",
     "output_type": "stream",
     "text": [
      "Database stacdbs has been deleted.\n"
     ]
    }
   ],
   "source": [
    "databases_to_delete = [ 'stacdbs']\n",
    "\n",
    "try:\n",
    "    driver = GraphDatabase.driver(uri, auth=(user, password))\n",
    "    \n",
    "    with driver.session() as session:\n",
    "        for db_name in databases_to_delete:\n",
    "            # Avoid trying to delete 'system' or 'neo4j' database which are system databases\n",
    "            if db_name not in ['neo4j', 'system']:\n",
    "                session.run(f\"DROP DATABASE {db_name} IF EXISTS\")\n",
    "                print(f\"Database {db_name} has been deleted.\")\n",
    "            else:\n",
    "                print(f\"Cannot delete system database: {db_name}\")\n",
    "    \n",
    "except Exception as e:\n",
    "    print(f\"Error connecting to Neo4j: {e}\")\n",
    "finally:\n",
    "    driver.close()"
   ]
  },
  {
   "cell_type": "markdown",
   "metadata": {},
   "source": [
    "## Retrive the data and check"
   ]
  },
  {
   "cell_type": "code",
   "execution_count": 4,
   "metadata": {},
   "outputs": [
    {
     "name": "stdout",
     "output_type": "stream",
     "text": [
      "Data from the database STACDBs:\n",
      "<Node element_id='4:2da65ef2-b6cc-412d-80ce-8775f1c5036c:0' labels=frozenset({'BASIC_INFORMATIONS'}) properties={'composite_type': 'P1M', 'temporal_extent_start': '2020-01-08T16:22:00Z', 'spatial_extent': [5.7635, 46.7937, 15.1528, 55.9456], 'description': 'Sentinel-2 L3A WASP Products of Germany processed by DLR using the WASP processor', 'instrument': 'MSI', 'title': 'Sentinel-2 L3A Monthly WASP Products', 'sensor_type': 'OPTICAL', 'platform_serial_identifier': 'A/B', 'platform': 'Sentinel-2', 'license': 'CC-BY-4.0', 'name': 'S2_L3A_WASP', 'orbit_type': 'LEO', 'doi': '10.15489/4hcq6dgkj648'}>\n",
      "<Node element_id='4:2da65ef2-b6cc-412d-80ce-8775f1c5036c:1' labels=frozenset({'BASIC_INFORMATIONS'}) properties={'license': 'CC-BY-4.0', 'name': 'S2_L2A_MAJA', 'temporal_extent_start': '2020-01-08T16:22:00Z', 'spatial_extent': [5.7635, 46.7937, 15.1528, 55.9456], 'description': 'Sentinel-2 L2A Products of Germany processed by DLR using the MAJA processor', 'orbit_type': 'LEO', 'instrument': 'MSI', 'title': 'Sentinel-2 L2A MAJA Products', 'sensor_type': 'OPTICAL', 'platform_serial_identifier': 'A/B', 'platform': 'Sentinel-2', 'doi': '10.15489/ifczsszkcp63'}>\n",
      "<Node element_id='4:2da65ef2-b6cc-412d-80ce-8775f1c5036c:2' labels=frozenset({'PROVIDER'}) properties={'name': 'ESA'}>\n",
      "<Node element_id='4:2da65ef2-b6cc-412d-80ce-8775f1c5036c:3' labels=frozenset({'PROVIDER'}) properties={'name': 'EOC Geoservice'}>\n",
      "<Node element_id='4:2da65ef2-b6cc-412d-80ce-8775f1c5036c:4' labels=frozenset({'PROVIDER'}) properties={'name': 'DLR/EOC Remote Sensing Technology Institute, Photogrammetry and Image Analysis'}>\n",
      "<Node element_id='4:2da65ef2-b6cc-412d-80ce-8775f1c5036c:5' labels=frozenset({'CITY'}) properties={'name': 'Siegen'}>\n",
      "<Node element_id='4:2da65ef2-b6cc-412d-80ce-8775f1c5036c:6' labels=frozenset({'CITY'}) properties={'name': 'Marburg'}>\n",
      "<Node element_id='4:2da65ef2-b6cc-412d-80ce-8775f1c5036c:7' labels=frozenset({'CITY'}) properties={'name': 'Korbach'}>\n",
      "<Node element_id='4:2da65ef2-b6cc-412d-80ce-8775f1c5036c:8' labels=frozenset({'CITY'}) properties={'name': 'Giesen'}>\n",
      "<Node element_id='4:2da65ef2-b6cc-412d-80ce-8775f1c5036c:9' labels=frozenset({'CITY'}) properties={'name': 'Trier'}>\n",
      "<Node element_id='4:2da65ef2-b6cc-412d-80ce-8775f1c5036c:10' labels=frozenset({'CITY'}) properties={'name': 'Daun'}>\n",
      "<Node element_id='4:2da65ef2-b6cc-412d-80ce-8775f1c5036c:11' labels=frozenset({'CITY'}) properties={'name': 'Koblenz'}>\n",
      "<Node element_id='4:2da65ef2-b6cc-412d-80ce-8775f1c5036c:12' labels=frozenset({'CITY'}) properties={'name': 'Idar-Oberstein'}>\n",
      "<Node element_id='4:2da65ef2-b6cc-412d-80ce-8775f1c5036c:13' labels=frozenset({'CITY'}) properties={'name': 'Frankfurt'}>\n",
      "<Node element_id='4:2da65ef2-b6cc-412d-80ce-8775f1c5036c:14' labels=frozenset({'CITY'}) properties={'name': 'Darmstadt'}>\n",
      "<Node element_id='4:2da65ef2-b6cc-412d-80ce-8775f1c5036c:15' labels=frozenset({'CITY'}) properties={'name': 'Wiesbaden'}>\n",
      "<Node element_id='4:2da65ef2-b6cc-412d-80ce-8775f1c5036c:16' labels=frozenset({'TILES'}) properties={'country': 'Germany', 'downloadLink': 'https://download.geoservice.dlr.de/S2_L2A_MAJA/', 'name': 'SENTINEL2A_20191116_103650_357', 'dataset_name': 'S2_L2A_MAJA'}>\n",
      "<Node element_id='4:2da65ef2-b6cc-412d-80ce-8775f1c5036c:17' labels=frozenset({'TILES'}) properties={'country': 'Germany', 'downloadLink': 'https://download.geoservice.dlr.de/S2_L2A_MAJA/', 'name': 'SENTINEL2A_20191116_103708_854', 'dataset_name': 'S2_L2A_MAJA'}>\n",
      "<Node element_id='4:2da65ef2-b6cc-412d-80ce-8775f1c5036c:18' labels=frozenset({'TILES'}) properties={'country': 'Germany', 'downloadLink': 'https://download.geoservice.dlr.de/S2_L2A_MAJA/', 'name': 'SENTINEL2A_20191116_103704_633', 'dataset_name': 'S2_L2A_MAJA'}>\n",
      "<Node element_id='4:2da65ef2-b6cc-412d-80ce-8775f1c5036c:19' labels=frozenset({'BASIC_INFORMATIONS'}) properties={'composite_type': 'P1M', 'temporal_extent_start': '2020-01-08T16:22:00Z', 'spatial_extent': [5.7635, 46.7937, 15.1528, 55.9456], 'description': 'Sentinel-2 L3A WASP Products of Germany processed by DLR using the WASP processor', 'instrument': 'MSI', 'title': 'Sentinel-2 L3A Monthly WASP Products', 'sensor_type': 'OPTICAL', 'platform_serial_identifier': 'A/B', 'platform': 'Sentinel-2', 'license': 'CC-BY-4.0', 'name': 'S2_L3A_WASP', 'orbit_type': 'LEO', 'doi': '10.15489/4hcq6dgkj648'}>\n",
      "<Node element_id='4:2da65ef2-b6cc-412d-80ce-8775f1c5036c:20' labels=frozenset({'BASIC_INFORMATIONS'}) properties={'license': 'CC-BY-4.0', 'name': 'S2_L2A_MAJA', 'temporal_extent_start': '2020-01-08T16:22:00Z', 'spatial_extent': [5.7635, 46.7937, 15.1528, 55.9456], 'description': 'Sentinel-2 L2A Products of Germany processed by DLR using the MAJA processor', 'orbit_type': 'LEO', 'instrument': 'MSI', 'title': 'Sentinel-2 L2A MAJA Products', 'sensor_type': 'OPTICAL', 'platform_serial_identifier': 'A/B', 'platform': 'Sentinel-2', 'doi': '10.15489/ifczsszkcp63'}>\n",
      "<Node element_id='4:2da65ef2-b6cc-412d-80ce-8775f1c5036c:21' labels=frozenset({'PROVIDER'}) properties={'name': 'ESA'}>\n",
      "<Node element_id='4:2da65ef2-b6cc-412d-80ce-8775f1c5036c:22' labels=frozenset({'PROVIDER'}) properties={'name': 'EOC Geoservice'}>\n",
      "<Node element_id='4:2da65ef2-b6cc-412d-80ce-8775f1c5036c:23' labels=frozenset({'PROVIDER'}) properties={'name': 'DLR/EOC Remote Sensing Technology Institute, Photogrammetry and Image Analysis'}>\n",
      "<Node element_id='4:2da65ef2-b6cc-412d-80ce-8775f1c5036c:24' labels=frozenset({'CITY'}) properties={'name': 'Siegen'}>\n",
      "<Node element_id='4:2da65ef2-b6cc-412d-80ce-8775f1c5036c:25' labels=frozenset({'CITY'}) properties={'name': 'Marburg'}>\n",
      "<Node element_id='4:2da65ef2-b6cc-412d-80ce-8775f1c5036c:26' labels=frozenset({'CITY'}) properties={'name': 'Korbach'}>\n",
      "<Node element_id='4:2da65ef2-b6cc-412d-80ce-8775f1c5036c:27' labels=frozenset({'CITY'}) properties={'name': 'Giesen'}>\n",
      "<Node element_id='4:2da65ef2-b6cc-412d-80ce-8775f1c5036c:28' labels=frozenset({'CITY'}) properties={'name': 'Trier'}>\n",
      "<Node element_id='4:2da65ef2-b6cc-412d-80ce-8775f1c5036c:29' labels=frozenset({'CITY'}) properties={'name': 'Daun'}>\n",
      "<Node element_id='4:2da65ef2-b6cc-412d-80ce-8775f1c5036c:30' labels=frozenset({'CITY'}) properties={'name': 'Koblenz'}>\n",
      "<Node element_id='4:2da65ef2-b6cc-412d-80ce-8775f1c5036c:31' labels=frozenset({'CITY'}) properties={'name': 'Idar-Oberstein'}>\n",
      "<Node element_id='4:2da65ef2-b6cc-412d-80ce-8775f1c5036c:32' labels=frozenset({'CITY'}) properties={'name': 'Frankfurt'}>\n",
      "<Node element_id='4:2da65ef2-b6cc-412d-80ce-8775f1c5036c:33' labels=frozenset({'CITY'}) properties={'name': 'Darmstadt'}>\n",
      "<Node element_id='4:2da65ef2-b6cc-412d-80ce-8775f1c5036c:34' labels=frozenset({'CITY'}) properties={'name': 'Wiesbaden'}>\n",
      "<Node element_id='4:2da65ef2-b6cc-412d-80ce-8775f1c5036c:35' labels=frozenset({'TILES'}) properties={'country': 'Germany', 'downloadLink': 'https://download.geoservice.dlr.de/S2_L2A_MAJA/', 'name': 'SENTINEL2A_20191116_103650_357', 'dataset_name': 'S2_L2A_MAJA'}>\n",
      "<Node element_id='4:2da65ef2-b6cc-412d-80ce-8775f1c5036c:36' labels=frozenset({'TILES'}) properties={'country': 'Germany', 'downloadLink': 'https://download.geoservice.dlr.de/S2_L2A_MAJA/', 'name': 'SENTINEL2A_20191116_103708_854', 'dataset_name': 'S2_L2A_MAJA'}>\n",
      "<Node element_id='4:2da65ef2-b6cc-412d-80ce-8775f1c5036c:37' labels=frozenset({'TILES'}) properties={'country': 'Germany', 'downloadLink': 'https://download.geoservice.dlr.de/S2_L2A_MAJA/', 'name': 'SENTINEL2A_20191116_103704_633', 'dataset_name': 'S2_L2A_MAJA'}>\n",
      "<Node element_id='4:2da65ef2-b6cc-412d-80ce-8775f1c5036c:38' labels=frozenset({'BASIC_INFORMATIONS'}) properties={'composite_type': 'P1M', 'temporal_extent_start': '2020-01-08T16:22:00Z', 'spatial_extent': [5.7635, 46.7937, 15.1528, 55.9456], 'description': 'Sentinel-2 L3A WASP Products of Germany processed by DLR using the WASP processor', 'instrument': 'MSI', 'title': 'Sentinel-2 L3A Monthly WASP Products', 'sensor_type': 'OPTICAL', 'platform_serial_identifier': 'A/B', 'platform': 'Sentinel-2', 'license': 'CC-BY-4.0', 'name': 'S2_L3A_WASP', 'orbit_type': 'LEO', 'doi': '10.15489/4hcq6dgkj648'}>\n",
      "<Node element_id='4:2da65ef2-b6cc-412d-80ce-8775f1c5036c:39' labels=frozenset({'BASIC_INFORMATIONS'}) properties={'license': 'CC-BY-4.0', 'name': 'S2_L2A_MAJA', 'temporal_extent_start': '2020-01-08T16:22:00Z', 'spatial_extent': [5.7635, 46.7937, 15.1528, 55.9456], 'description': 'Sentinel-2 L2A Products of Germany processed by DLR using the MAJA processor', 'orbit_type': 'LEO', 'instrument': 'MSI', 'title': 'Sentinel-2 L2A MAJA Products', 'sensor_type': 'OPTICAL', 'platform_serial_identifier': 'A/B', 'platform': 'Sentinel-2', 'doi': '10.15489/ifczsszkcp63'}>\n",
      "<Node element_id='4:2da65ef2-b6cc-412d-80ce-8775f1c5036c:40' labels=frozenset({'PROVIDER'}) properties={'name': 'ESA'}>\n",
      "<Node element_id='4:2da65ef2-b6cc-412d-80ce-8775f1c5036c:41' labels=frozenset({'PROVIDER'}) properties={'name': 'EOC Geoservice'}>\n",
      "<Node element_id='4:2da65ef2-b6cc-412d-80ce-8775f1c5036c:42' labels=frozenset({'PROVIDER'}) properties={'name': 'DLR/EOC Remote Sensing Technology Institute, Photogrammetry and Image Analysis'}>\n",
      "<Node element_id='4:2da65ef2-b6cc-412d-80ce-8775f1c5036c:43' labels=frozenset({'CITY'}) properties={'name': 'Siegen'}>\n",
      "<Node element_id='4:2da65ef2-b6cc-412d-80ce-8775f1c5036c:44' labels=frozenset({'CITY'}) properties={'name': 'Marburg'}>\n",
      "<Node element_id='4:2da65ef2-b6cc-412d-80ce-8775f1c5036c:45' labels=frozenset({'CITY'}) properties={'name': 'Korbach'}>\n",
      "<Node element_id='4:2da65ef2-b6cc-412d-80ce-8775f1c5036c:46' labels=frozenset({'CITY'}) properties={'name': 'Giesen'}>\n",
      "<Node element_id='4:2da65ef2-b6cc-412d-80ce-8775f1c5036c:47' labels=frozenset({'CITY'}) properties={'name': 'Trier'}>\n",
      "<Node element_id='4:2da65ef2-b6cc-412d-80ce-8775f1c5036c:48' labels=frozenset({'CITY'}) properties={'name': 'Daun'}>\n",
      "<Node element_id='4:2da65ef2-b6cc-412d-80ce-8775f1c5036c:49' labels=frozenset({'CITY'}) properties={'name': 'Koblenz'}>\n",
      "<Node element_id='4:2da65ef2-b6cc-412d-80ce-8775f1c5036c:50' labels=frozenset({'CITY'}) properties={'name': 'Idar-Oberstein'}>\n",
      "<Node element_id='4:2da65ef2-b6cc-412d-80ce-8775f1c5036c:51' labels=frozenset({'CITY'}) properties={'name': 'Frankfurt'}>\n",
      "<Node element_id='4:2da65ef2-b6cc-412d-80ce-8775f1c5036c:52' labels=frozenset({'CITY'}) properties={'name': 'Darmstadt'}>\n",
      "<Node element_id='4:2da65ef2-b6cc-412d-80ce-8775f1c5036c:53' labels=frozenset({'CITY'}) properties={'name': 'Wiesbaden'}>\n",
      "<Node element_id='4:2da65ef2-b6cc-412d-80ce-8775f1c5036c:54' labels=frozenset({'TILES'}) properties={'country': 'Germany', 'downloadLink': 'https://download.geoservice.dlr.de/S2_L2A_MAJA/', 'name': 'SENTINEL2A_20191116_103650_357', 'dataset_name': 'S2_L2A_MAJA'}>\n",
      "<Node element_id='4:2da65ef2-b6cc-412d-80ce-8775f1c5036c:55' labels=frozenset({'TILES'}) properties={'country': 'Germany', 'downloadLink': 'https://download.geoservice.dlr.de/S2_L2A_MAJA/', 'name': 'SENTINEL2A_20191116_103708_854', 'dataset_name': 'S2_L2A_MAJA'}>\n",
      "<Node element_id='4:2da65ef2-b6cc-412d-80ce-8775f1c5036c:56' labels=frozenset({'TILES'}) properties={'country': 'Germany', 'downloadLink': 'https://download.geoservice.dlr.de/S2_L2A_MAJA/', 'name': 'SENTINEL2A_20191116_103704_633', 'dataset_name': 'S2_L2A_MAJA'}>\n"
     ]
    }
   ],
   "source": [
    "\n",
    "\n",
    "try:\n",
    "    driver = GraphDatabase.driver(uri, auth=(user, password))\n",
    "    \n",
    "    with driver.session(database=db_name) as session:\n",
    "        result = session.run(\"MATCH (n) RETURN n\")\n",
    "        \n",
    "        print(f\"Data from the database {db_name}:\")\n",
    "        for record in result:\n",
    "            print(record[\"n\"])  \n",
    "\n",
    "except Exception as e:\n",
    "    print(f\"Error connecting to Neo4j: {e}\")\n",
    "finally:\n",
    "    driver.close()"
   ]
  },
  {
   "cell_type": "code",
   "execution_count": 7,
   "metadata": {},
   "outputs": [
    {
     "name": "stdout",
     "output_type": "stream",
     "text": [
      "Requirement already satisfied: langchain in .\\llmenv\\lib\\site-packages (0.3.9)\n",
      "Collecting transformers\n",
      "  Using cached transformers-4.46.3-py3-none-any.whl.metadata (44 kB)\n",
      "Collecting torch\n",
      "  Using cached torch-2.5.1-cp312-cp312-win_amd64.whl.metadata (28 kB)\n",
      "Requirement already satisfied: neo4j in .\\llmenv\\lib\\site-packages (5.27.0)\n",
      "Requirement already satisfied: langchain_community[graphs] in .\\llmenv\\lib\\site-packages (0.3.8)\n",
      "Requirement already satisfied: PyYAML>=5.3 in .\\llmenv\\lib\\site-packages (from langchain) (6.0.2)\n",
      "Requirement already satisfied: SQLAlchemy<3,>=1.4 in .\\llmenv\\lib\\site-packages (from langchain) (2.0.35)\n",
      "Requirement already satisfied: aiohttp<4.0.0,>=3.8.3 in .\\llmenv\\lib\\site-packages (from langchain) (3.11.8)\n",
      "Requirement already satisfied: langchain-core<0.4.0,>=0.3.21 in .\\llmenv\\lib\\site-packages (from langchain) (0.3.21)\n",
      "Requirement already satisfied: langchain-text-splitters<0.4.0,>=0.3.0 in .\\llmenv\\lib\\site-packages (from langchain) (0.3.2)\n",
      "Requirement already satisfied: langsmith<0.2.0,>=0.1.17 in .\\llmenv\\lib\\site-packages (from langchain) (0.1.147)\n",
      "Requirement already satisfied: numpy<3,>=1.26.2 in .\\llmenv\\lib\\site-packages (from langchain) (1.26.4)\n",
      "Requirement already satisfied: pydantic<3.0.0,>=2.7.4 in .\\llmenv\\lib\\site-packages (from langchain) (2.10.2)\n",
      "Requirement already satisfied: requests<3,>=2 in .\\llmenv\\lib\\site-packages (from langchain) (2.32.3)\n",
      "Requirement already satisfied: tenacity!=8.4.0,<10,>=8.1.0 in .\\llmenv\\lib\\site-packages (from langchain) (9.0.0)\n",
      "Collecting filelock (from transformers)\n",
      "  Using cached filelock-3.16.1-py3-none-any.whl.metadata (2.9 kB)\n",
      "Collecting huggingface-hub<1.0,>=0.23.2 (from transformers)\n",
      "  Using cached huggingface_hub-0.26.3-py3-none-any.whl.metadata (13 kB)\n",
      "Requirement already satisfied: packaging>=20.0 in .\\llmenv\\lib\\site-packages (from transformers) (24.2)\n",
      "Requirement already satisfied: regex!=2019.12.17 in .\\llmenv\\lib\\site-packages (from transformers) (2024.11.6)\n",
      "Collecting tokenizers<0.21,>=0.20 (from transformers)\n",
      "  Using cached tokenizers-0.20.3-cp312-none-win_amd64.whl.metadata (6.9 kB)\n",
      "Collecting safetensors>=0.4.1 (from transformers)\n",
      "  Using cached safetensors-0.4.5-cp312-none-win_amd64.whl.metadata (3.9 kB)\n",
      "Requirement already satisfied: tqdm>=4.27 in .\\llmenv\\lib\\site-packages (from transformers) (4.67.1)\n",
      "Requirement already satisfied: typing-extensions>=4.8.0 in .\\llmenv\\lib\\site-packages (from torch) (4.12.2)\n",
      "Collecting networkx (from torch)\n",
      "  Using cached networkx-3.4.2-py3-none-any.whl.metadata (6.3 kB)\n",
      "Collecting jinja2 (from torch)\n",
      "  Using cached jinja2-3.1.4-py3-none-any.whl.metadata (2.6 kB)\n",
      "Collecting fsspec (from torch)\n",
      "  Using cached fsspec-2024.10.0-py3-none-any.whl.metadata (11 kB)\n",
      "Collecting setuptools (from torch)\n",
      "  Using cached setuptools-75.6.0-py3-none-any.whl.metadata (6.7 kB)\n",
      "Collecting sympy==1.13.1 (from torch)\n",
      "  Using cached sympy-1.13.1-py3-none-any.whl.metadata (12 kB)\n",
      "Collecting mpmath<1.4,>=1.1.0 (from sympy==1.13.1->torch)\n",
      "  Using cached mpmath-1.3.0-py3-none-any.whl.metadata (8.6 kB)\n",
      "Requirement already satisfied: pytz in .\\llmenv\\lib\\site-packages (from neo4j) (2024.2)\n",
      "Requirement already satisfied: dataclasses-json<0.7,>=0.5.7 in .\\llmenv\\lib\\site-packages (from langchain_community[graphs]) (0.6.7)\n",
      "Requirement already satisfied: httpx-sse<0.5.0,>=0.4.0 in .\\llmenv\\lib\\site-packages (from langchain_community[graphs]) (0.4.0)\n",
      "Requirement already satisfied: pydantic-settings<3.0.0,>=2.4.0 in .\\llmenv\\lib\\site-packages (from langchain_community[graphs]) (2.6.1)\n",
      "Requirement already satisfied: aiohappyeyeballs>=2.3.0 in .\\llmenv\\lib\\site-packages (from aiohttp<4.0.0,>=3.8.3->langchain) (2.4.4)\n",
      "Requirement already satisfied: aiosignal>=1.1.2 in .\\llmenv\\lib\\site-packages (from aiohttp<4.0.0,>=3.8.3->langchain) (1.3.1)\n",
      "Requirement already satisfied: attrs>=17.3.0 in .\\llmenv\\lib\\site-packages (from aiohttp<4.0.0,>=3.8.3->langchain) (24.2.0)\n",
      "Requirement already satisfied: frozenlist>=1.1.1 in .\\llmenv\\lib\\site-packages (from aiohttp<4.0.0,>=3.8.3->langchain) (1.5.0)\n",
      "Requirement already satisfied: multidict<7.0,>=4.5 in .\\llmenv\\lib\\site-packages (from aiohttp<4.0.0,>=3.8.3->langchain) (6.1.0)\n",
      "Requirement already satisfied: propcache>=0.2.0 in .\\llmenv\\lib\\site-packages (from aiohttp<4.0.0,>=3.8.3->langchain) (0.2.0)\n",
      "Requirement already satisfied: yarl<2.0,>=1.17.0 in .\\llmenv\\lib\\site-packages (from aiohttp<4.0.0,>=3.8.3->langchain) (1.18.0)\n",
      "Requirement already satisfied: marshmallow<4.0.0,>=3.18.0 in .\\llmenv\\lib\\site-packages (from dataclasses-json<0.7,>=0.5.7->langchain_community[graphs]) (3.23.1)\n",
      "Requirement already satisfied: typing-inspect<1,>=0.4.0 in .\\llmenv\\lib\\site-packages (from dataclasses-json<0.7,>=0.5.7->langchain_community[graphs]) (0.9.0)\n",
      "Requirement already satisfied: jsonpatch<2.0,>=1.33 in .\\llmenv\\lib\\site-packages (from langchain-core<0.4.0,>=0.3.21->langchain) (1.33)\n",
      "Requirement already satisfied: httpx<1,>=0.23.0 in .\\llmenv\\lib\\site-packages (from langsmith<0.2.0,>=0.1.17->langchain) (0.28.0)\n",
      "Requirement already satisfied: orjson<4.0.0,>=3.9.14 in .\\llmenv\\lib\\site-packages (from langsmith<0.2.0,>=0.1.17->langchain) (3.10.12)\n",
      "Requirement already satisfied: requests-toolbelt<2.0.0,>=1.0.0 in .\\llmenv\\lib\\site-packages (from langsmith<0.2.0,>=0.1.17->langchain) (1.0.0)\n",
      "Requirement already satisfied: annotated-types>=0.6.0 in .\\llmenv\\lib\\site-packages (from pydantic<3.0.0,>=2.7.4->langchain) (0.7.0)\n",
      "Requirement already satisfied: pydantic-core==2.27.1 in .\\llmenv\\lib\\site-packages (from pydantic<3.0.0,>=2.7.4->langchain) (2.27.1)\n",
      "Requirement already satisfied: python-dotenv>=0.21.0 in .\\llmenv\\lib\\site-packages (from pydantic-settings<3.0.0,>=2.4.0->langchain_community[graphs]) (1.0.1)\n",
      "Requirement already satisfied: charset-normalizer<4,>=2 in .\\llmenv\\lib\\site-packages (from requests<3,>=2->langchain) (3.4.0)\n",
      "Requirement already satisfied: idna<4,>=2.5 in .\\llmenv\\lib\\site-packages (from requests<3,>=2->langchain) (3.10)\n",
      "Requirement already satisfied: urllib3<3,>=1.21.1 in .\\llmenv\\lib\\site-packages (from requests<3,>=2->langchain) (2.2.3)\n",
      "Requirement already satisfied: certifi>=2017.4.17 in .\\llmenv\\lib\\site-packages (from requests<3,>=2->langchain) (2024.8.30)\n",
      "Requirement already satisfied: greenlet!=0.4.17 in .\\llmenv\\lib\\site-packages (from SQLAlchemy<3,>=1.4->langchain) (3.1.1)\n",
      "Requirement already satisfied: colorama in .\\llmenv\\lib\\site-packages (from tqdm>=4.27->transformers) (0.4.6)\n",
      "Collecting MarkupSafe>=2.0 (from jinja2->torch)\n",
      "  Using cached MarkupSafe-3.0.2-cp312-cp312-win_amd64.whl.metadata (4.1 kB)\n",
      "Requirement already satisfied: anyio in .\\llmenv\\lib\\site-packages (from httpx<1,>=0.23.0->langsmith<0.2.0,>=0.1.17->langchain) (4.6.2.post1)\n",
      "Requirement already satisfied: httpcore==1.* in .\\llmenv\\lib\\site-packages (from httpx<1,>=0.23.0->langsmith<0.2.0,>=0.1.17->langchain) (1.0.7)\n",
      "Requirement already satisfied: h11<0.15,>=0.13 in .\\llmenv\\lib\\site-packages (from httpcore==1.*->httpx<1,>=0.23.0->langsmith<0.2.0,>=0.1.17->langchain) (0.14.0)\n",
      "Requirement already satisfied: jsonpointer>=1.9 in .\\llmenv\\lib\\site-packages (from jsonpatch<2.0,>=1.33->langchain-core<0.4.0,>=0.3.21->langchain) (3.0.0)\n",
      "Requirement already satisfied: mypy-extensions>=0.3.0 in .\\llmenv\\lib\\site-packages (from typing-inspect<1,>=0.4.0->dataclasses-json<0.7,>=0.5.7->langchain_community[graphs]) (1.0.0)\n",
      "Requirement already satisfied: sniffio>=1.1 in .\\llmenv\\lib\\site-packages (from anyio->httpx<1,>=0.23.0->langsmith<0.2.0,>=0.1.17->langchain) (1.3.1)\n",
      "Using cached transformers-4.46.3-py3-none-any.whl (10.0 MB)\n",
      "Using cached torch-2.5.1-cp312-cp312-win_amd64.whl (203.0 MB)\n",
      "Using cached sympy-1.13.1-py3-none-any.whl (6.2 MB)\n",
      "Using cached huggingface_hub-0.26.3-py3-none-any.whl (447 kB)\n",
      "Using cached fsspec-2024.10.0-py3-none-any.whl (179 kB)\n",
      "Using cached safetensors-0.4.5-cp312-none-win_amd64.whl (286 kB)\n",
      "Using cached tokenizers-0.20.3-cp312-none-win_amd64.whl (2.4 MB)\n",
      "Using cached filelock-3.16.1-py3-none-any.whl (16 kB)\n",
      "Using cached jinja2-3.1.4-py3-none-any.whl (133 kB)\n",
      "Using cached networkx-3.4.2-py3-none-any.whl (1.7 MB)\n",
      "Using cached setuptools-75.6.0-py3-none-any.whl (1.2 MB)\n",
      "Using cached MarkupSafe-3.0.2-cp312-cp312-win_amd64.whl (15 kB)\n",
      "Using cached mpmath-1.3.0-py3-none-any.whl (536 kB)\n",
      "Installing collected packages: mpmath, sympy, setuptools, safetensors, networkx, MarkupSafe, fsspec, filelock, jinja2, huggingface-hub, torch, tokenizers, transformers\n",
      "Successfully installed MarkupSafe-3.0.2 filelock-3.16.1 fsspec-2024.10.0 huggingface-hub-0.26.3 jinja2-3.1.4 mpmath-1.3.0 networkx-3.4.2 safetensors-0.4.5 setuptools-75.6.0 sympy-1.13.1 tokenizers-0.20.3 torch-2.5.1 transformers-4.46.3\n",
      "Note: you may need to restart the kernel to use updated packages.\n"
     ]
    },
    {
     "name": "stderr",
     "output_type": "stream",
     "text": [
      "WARNING: langchain-community 0.3.8 does not provide the extra 'graphs'\n",
      "\n",
      "[notice] A new release of pip is available: 24.0 -> 24.3.1\n",
      "[notice] To update, run: python.exe -m pip install --upgrade pip\n"
     ]
    }
   ],
   "source": [
    "%pip install langchain transformers torch neo4j langchain_community[graphs]"
   ]
  },
  {
   "cell_type": "code",
   "execution_count": null,
   "metadata": {},
   "outputs": [],
   "source": [
    "from langchain.chains import GraphCypherQAChain \n",
    "from langchain_community.graphs import Neo4jGraph\n",
    "from langchain.llms import HuggingFacePipeline\n",
    "from transformers import AutoModelForCausalLM, AutoTokenizer, pipeline\n",
    "\n",
    "graph = Neo4jGraph(\n",
    "    url=uri,\n",
    "    username=user,\n",
    "    password=password,\n",
    "    database=db_name\n",
    ")\n",
    "\n",
    "model_name = \"distilgpt2\"  \n",
    "tokenizer = AutoTokenizer.from_pretrained(model_name)\n",
    "model = AutoModelForCausalLM.from_pretrained(model_name)\n",
    "\n",
    "hf_pipeline = pipeline(\n",
    "    \"text-generation\", \n",
    "    model=model, \n",
    "    tokenizer=tokenizer,\n",
    "    max_length=600\n",
    ")\n",
    "\n",
    "llm = HuggingFacePipeline(pipeline=hf_pipeline)\n",
    "chain = GraphCypherQAChain.from_llm(\n",
    "    graph=graph,\n",
    "    llm=llm,\n",
    "    verbose=True,\n",
    "    allow_dangerous_requests=True\n",
    ")"
   ]
  },
  {
   "cell_type": "code",
   "execution_count": 24,
   "metadata": {},
   "outputs": [
    {
     "name": "stderr",
     "output_type": "stream",
     "text": [
      "Truncation was not explicitly activated but `max_length` is provided a specific value, please use `truncation=True` to explicitly truncate examples to max length. Defaulting to 'longest_first' truncation strategy. If you encode pairs of sequences (GLUE-style) with the tokenizer you can select this strategy more precisely by providing a specific strategy to `truncation`.\n",
      "Setting `pad_token_id` to `eos_token_id`:None for open-end generation.\n"
     ]
    },
    {
     "name": "stdout",
     "output_type": "stream",
     "text": [
      "\n",
      "\n",
      "\u001b[1m> Entering new GraphCypherQAChain chain...\u001b[0m\n",
      "Generated Cypher:\n",
      "\u001b[32;1m\u001b[1;3mTask:Generate Cypher statement to query a graph database.\n",
      "Instructions:\n",
      "Use only the provided relationship types and properties in the schema.\n",
      "Do not use any other relationship types or properties that are not provided.\n",
      "Schema:\n",
      "Node properties are the following:\n",
      "BASIC_INFORMATIONS {composite_type: STRING, temporal_extent_start: STRING, spatial_extent: LIST, description: STRING, instrument: STRING, title: STRING, sensor_type: STRING, platform_serial_identifier: STRING, platform: STRING, license: STRING, name: STRING, orbit_type: STRING, doi: STRING},PROVIDER {name: STRING},CITY {name: STRING},TILES {name: STRING, country: STRING, downloadLink: STRING, dataset_name: STRING}\n",
      "Relationship properties are the following:\n",
      "\n",
      "The relationships are the following:\n",
      "(:PROVIDER)-[:PROVIDES]->(:BASIC_INFORMATIONS),(:CITY)-[:LOCATED_IN]->(:TILES),(:TILES)-[:HAS_INFORMATION]->(:BASIC_INFORMATIONS)\n",
      "Note: Do not include any explanations or apologies in your responses.\n",
      "Do not respond to any questions that might ask anything else than for you to construct a Cypher statement.\n",
      "Do not include any text except the generated Cypher statement.\n",
      "\n",
      "The question is:\n",
      "Is there a specific download link available for accessing the satellite data related to Frankfurt within the S2_L2A_MAJA dataset?\n",
      "How did the data access came from Frankfurt and its data to Frankfurt from Frankfurt?\n",
      "If you live in Berlin and are already in Berlin, please submit the data as an appendix. Any additional information should not be required for your download.\n",
      "Please email the data provider with the URL and the URL in your header field, including all values as an indication that something was accessed by the data provider in Frankfurt. If your download URL has a valid URL, a download link may have been added for your download URL.\n",
      "Please allow me to create any sort of an issue that affects your downloads without further further ado - please check your options if something is not allowed.\n",
      "If the download URL is a given URL before the download link is included for your downloads - please check your options if something is not allowed. If your download link has an invalid URL, the download link may have been added for your download URL. If you are using an external search engine that contains an external search engine that contains an external search engine that contains an external search engine that contains an external search engine that contains an external search engine that contains an external search engine that contains an external search engine that contains an external search engine that contains\u001b[0m\n"
     ]
    },
    {
     "ename": "CypherSyntaxError",
     "evalue": "{code: Neo.ClientError.Statement.SyntaxError} {message: Invalid input 'Task': expected 'FOREACH', 'ALTER', 'ORDER BY', 'CALL', 'USING PERIODIC COMMIT', 'CREATE', 'LOAD CSV', 'START DATABASE', 'STOP DATABASE', 'DEALLOCATE', 'DELETE', 'DENY', 'DETACH', 'DROP', 'DRYRUN', 'FINISH', 'GRANT', 'INSERT', 'LIMIT', 'MATCH', 'MERGE', 'NODETACH', 'OFFSET', 'OPTIONAL', 'REALLOCATE', 'REMOVE', 'RENAME', 'RETURN', 'REVOKE', 'ENABLE SERVER', 'SET', 'SHOW', 'SKIP', 'TERMINATE', 'UNWIND', 'USE' or 'WITH' (line 1, column 1 (offset: 0))\r\n\"Task:Generate Cypher statement to query a graph database.\"\r\n ^}",
     "output_type": "error",
     "traceback": [
      "\u001b[1;31m---------------------------------------------------------------------------\u001b[0m",
      "\u001b[1;31mCypherSyntaxError\u001b[0m                         Traceback (most recent call last)",
      "Cell \u001b[1;32mIn[24], line 3\u001b[0m\n\u001b[0;32m      1\u001b[0m question \u001b[38;5;241m=\u001b[39m \u001b[38;5;124m\"\u001b[39m\u001b[38;5;124mIs there a specific download link available for accessing the satellite data related to Frankfurt within the S2_L2A_MAJA dataset?\u001b[39m\u001b[38;5;124m\"\u001b[39m\n\u001b[1;32m----> 3\u001b[0m response \u001b[38;5;241m=\u001b[39m \u001b[43mchain\u001b[49m\u001b[38;5;241;43m.\u001b[39;49m\u001b[43minvoke\u001b[49m\u001b[43m(\u001b[49m\u001b[43m{\u001b[49m\u001b[38;5;124;43m\"\u001b[39;49m\u001b[38;5;124;43mquery\u001b[39;49m\u001b[38;5;124;43m\"\u001b[39;49m\u001b[43m:\u001b[49m\u001b[43m \u001b[49m\u001b[43mquestion\u001b[49m\u001b[43m}\u001b[49m\u001b[43m)\u001b[49m\n\u001b[0;32m      5\u001b[0m \u001b[38;5;28mprint\u001b[39m(\u001b[38;5;124m\"\u001b[39m\u001b[38;5;124mResponse:\u001b[39m\u001b[38;5;124m\"\u001b[39m, response)\n",
      "File \u001b[1;32md:\\question-and-answering-system-for-raster-data\\LLMenv\\Lib\\site-packages\\langchain\\chains\\base.py:170\u001b[0m, in \u001b[0;36mChain.invoke\u001b[1;34m(self, input, config, **kwargs)\u001b[0m\n\u001b[0;32m    168\u001b[0m \u001b[38;5;28;01mexcept\u001b[39;00m \u001b[38;5;167;01mBaseException\u001b[39;00m \u001b[38;5;28;01mas\u001b[39;00m e:\n\u001b[0;32m    169\u001b[0m     run_manager\u001b[38;5;241m.\u001b[39mon_chain_error(e)\n\u001b[1;32m--> 170\u001b[0m     \u001b[38;5;28;01mraise\u001b[39;00m e\n\u001b[0;32m    171\u001b[0m run_manager\u001b[38;5;241m.\u001b[39mon_chain_end(outputs)\n\u001b[0;32m    173\u001b[0m \u001b[38;5;28;01mif\u001b[39;00m include_run_info:\n",
      "File \u001b[1;32md:\\question-and-answering-system-for-raster-data\\LLMenv\\Lib\\site-packages\\langchain\\chains\\base.py:160\u001b[0m, in \u001b[0;36mChain.invoke\u001b[1;34m(self, input, config, **kwargs)\u001b[0m\n\u001b[0;32m    157\u001b[0m \u001b[38;5;28;01mtry\u001b[39;00m:\n\u001b[0;32m    158\u001b[0m     \u001b[38;5;28mself\u001b[39m\u001b[38;5;241m.\u001b[39m_validate_inputs(inputs)\n\u001b[0;32m    159\u001b[0m     outputs \u001b[38;5;241m=\u001b[39m (\n\u001b[1;32m--> 160\u001b[0m         \u001b[38;5;28;43mself\u001b[39;49m\u001b[38;5;241;43m.\u001b[39;49m\u001b[43m_call\u001b[49m\u001b[43m(\u001b[49m\u001b[43minputs\u001b[49m\u001b[43m,\u001b[49m\u001b[43m \u001b[49m\u001b[43mrun_manager\u001b[49m\u001b[38;5;241;43m=\u001b[39;49m\u001b[43mrun_manager\u001b[49m\u001b[43m)\u001b[49m\n\u001b[0;32m    161\u001b[0m         \u001b[38;5;28;01mif\u001b[39;00m new_arg_supported\n\u001b[0;32m    162\u001b[0m         \u001b[38;5;28;01melse\u001b[39;00m \u001b[38;5;28mself\u001b[39m\u001b[38;5;241m.\u001b[39m_call(inputs)\n\u001b[0;32m    163\u001b[0m     )\n\u001b[0;32m    165\u001b[0m     final_outputs: Dict[\u001b[38;5;28mstr\u001b[39m, Any] \u001b[38;5;241m=\u001b[39m \u001b[38;5;28mself\u001b[39m\u001b[38;5;241m.\u001b[39mprep_outputs(\n\u001b[0;32m    166\u001b[0m         inputs, outputs, return_only_outputs\n\u001b[0;32m    167\u001b[0m     )\n\u001b[0;32m    168\u001b[0m \u001b[38;5;28;01mexcept\u001b[39;00m \u001b[38;5;167;01mBaseException\u001b[39;00m \u001b[38;5;28;01mas\u001b[39;00m e:\n",
      "File \u001b[1;32md:\\question-and-answering-system-for-raster-data\\LLMenv\\Lib\\site-packages\\langchain_community\\chains\\graph_qa\\cypher.py:371\u001b[0m, in \u001b[0;36mGraphCypherQAChain._call\u001b[1;34m(self, inputs, run_manager)\u001b[0m\n\u001b[0;32m    368\u001b[0m \u001b[38;5;66;03m# Retrieve and limit the number of results\u001b[39;00m\n\u001b[0;32m    369\u001b[0m \u001b[38;5;66;03m# Generated Cypher be null if query corrector identifies invalid schema\u001b[39;00m\n\u001b[0;32m    370\u001b[0m \u001b[38;5;28;01mif\u001b[39;00m generated_cypher:\n\u001b[1;32m--> 371\u001b[0m     context \u001b[38;5;241m=\u001b[39m \u001b[38;5;28;43mself\u001b[39;49m\u001b[38;5;241;43m.\u001b[39;49m\u001b[43mgraph\u001b[49m\u001b[38;5;241;43m.\u001b[39;49m\u001b[43mquery\u001b[49m\u001b[43m(\u001b[49m\u001b[43mgenerated_cypher\u001b[49m\u001b[43m)\u001b[49m[: \u001b[38;5;28mself\u001b[39m\u001b[38;5;241m.\u001b[39mtop_k]\n\u001b[0;32m    372\u001b[0m \u001b[38;5;28;01melse\u001b[39;00m:\n\u001b[0;32m    373\u001b[0m     context \u001b[38;5;241m=\u001b[39m []\n",
      "File \u001b[1;32md:\\question-and-answering-system-for-raster-data\\LLMenv\\Lib\\site-packages\\langchain_community\\graphs\\neo4j_graph.py:431\u001b[0m, in \u001b[0;36mNeo4jGraph.query\u001b[1;34m(self, query, params)\u001b[0m\n\u001b[0;32m    428\u001b[0m \u001b[38;5;28;01mfrom\u001b[39;00m \u001b[38;5;21;01mneo4j\u001b[39;00m\u001b[38;5;21;01m.\u001b[39;00m\u001b[38;5;21;01mexceptions\u001b[39;00m \u001b[38;5;28;01mimport\u001b[39;00m Neo4jError\n\u001b[0;32m    430\u001b[0m \u001b[38;5;28;01mtry\u001b[39;00m:\n\u001b[1;32m--> 431\u001b[0m     data, _, _ \u001b[38;5;241m=\u001b[39m \u001b[38;5;28;43mself\u001b[39;49m\u001b[38;5;241;43m.\u001b[39;49m\u001b[43m_driver\u001b[49m\u001b[38;5;241;43m.\u001b[39;49m\u001b[43mexecute_query\u001b[49m\u001b[43m(\u001b[49m\n\u001b[0;32m    432\u001b[0m \u001b[43m        \u001b[49m\u001b[43mQuery\u001b[49m\u001b[43m(\u001b[49m\u001b[43mtext\u001b[49m\u001b[38;5;241;43m=\u001b[39;49m\u001b[43mquery\u001b[49m\u001b[43m,\u001b[49m\u001b[43m \u001b[49m\u001b[43mtimeout\u001b[49m\u001b[38;5;241;43m=\u001b[39;49m\u001b[38;5;28;43mself\u001b[39;49m\u001b[38;5;241;43m.\u001b[39;49m\u001b[43mtimeout\u001b[49m\u001b[43m)\u001b[49m\u001b[43m,\u001b[49m\n\u001b[0;32m    433\u001b[0m \u001b[43m        \u001b[49m\u001b[43mdatabase_\u001b[49m\u001b[38;5;241;43m=\u001b[39;49m\u001b[38;5;28;43mself\u001b[39;49m\u001b[38;5;241;43m.\u001b[39;49m\u001b[43m_database\u001b[49m\u001b[43m,\u001b[49m\n\u001b[0;32m    434\u001b[0m \u001b[43m        \u001b[49m\u001b[43mparameters_\u001b[49m\u001b[38;5;241;43m=\u001b[39;49m\u001b[43mparams\u001b[49m\u001b[43m,\u001b[49m\n\u001b[0;32m    435\u001b[0m \u001b[43m    \u001b[49m\u001b[43m)\u001b[49m\n\u001b[0;32m    436\u001b[0m     json_data \u001b[38;5;241m=\u001b[39m [r\u001b[38;5;241m.\u001b[39mdata() \u001b[38;5;28;01mfor\u001b[39;00m r \u001b[38;5;129;01min\u001b[39;00m data]\n\u001b[0;32m    437\u001b[0m     \u001b[38;5;28;01mif\u001b[39;00m \u001b[38;5;28mself\u001b[39m\u001b[38;5;241m.\u001b[39msanitize:\n",
      "File \u001b[1;32md:\\question-and-answering-system-for-raster-data\\LLMenv\\Lib\\site-packages\\neo4j\\_sync\\driver.py:969\u001b[0m, in \u001b[0;36mDriver.execute_query\u001b[1;34m(self, query_, parameters_, routing_, database_, impersonated_user_, bookmark_manager_, auth_, result_transformer_, **kwargs)\u001b[0m\n\u001b[0;32m    965\u001b[0m     \u001b[38;5;28;01mraise\u001b[39;00m \u001b[38;5;167;01mValueError\u001b[39;00m(\n\u001b[0;32m    966\u001b[0m         \u001b[38;5;124mf\u001b[39m\u001b[38;5;124m\"\u001b[39m\u001b[38;5;124mInvalid routing control value: \u001b[39m\u001b[38;5;132;01m{\u001b[39;00mrouting_\u001b[38;5;132;01m!r}\u001b[39;00m\u001b[38;5;124m\"\u001b[39m\n\u001b[0;32m    967\u001b[0m     )\n\u001b[0;32m    968\u001b[0m \u001b[38;5;28;01mwith\u001b[39;00m session\u001b[38;5;241m.\u001b[39m_pipelined_begin:\n\u001b[1;32m--> 969\u001b[0m     \u001b[38;5;28;01mreturn\u001b[39;00m \u001b[43msession\u001b[49m\u001b[38;5;241;43m.\u001b[39;49m\u001b[43m_run_transaction\u001b[49m\u001b[43m(\u001b[49m\n\u001b[0;32m    970\u001b[0m \u001b[43m        \u001b[49m\u001b[43maccess_mode\u001b[49m\u001b[43m,\u001b[49m\n\u001b[0;32m    971\u001b[0m \u001b[43m        \u001b[49m\u001b[43mTelemetryAPI\u001b[49m\u001b[38;5;241;43m.\u001b[39;49m\u001b[43mDRIVER\u001b[49m\u001b[43m,\u001b[49m\n\u001b[0;32m    972\u001b[0m \u001b[43m        \u001b[49m\u001b[43mwork\u001b[49m\u001b[43m,\u001b[49m\n\u001b[0;32m    973\u001b[0m \u001b[43m        \u001b[49m\u001b[43m(\u001b[49m\u001b[43mquery_str\u001b[49m\u001b[43m,\u001b[49m\u001b[43m \u001b[49m\u001b[43mparameters\u001b[49m\u001b[43m,\u001b[49m\u001b[43m \u001b[49m\u001b[43mresult_transformer_\u001b[49m\u001b[43m)\u001b[49m\u001b[43m,\u001b[49m\n\u001b[0;32m    974\u001b[0m \u001b[43m        \u001b[49m\u001b[43m{\u001b[49m\u001b[43m}\u001b[49m\u001b[43m,\u001b[49m\n\u001b[0;32m    975\u001b[0m \u001b[43m    \u001b[49m\u001b[43m)\u001b[49m\n",
      "File \u001b[1;32md:\\question-and-answering-system-for-raster-data\\LLMenv\\Lib\\site-packages\\neo4j\\_sync\\work\\session.py:581\u001b[0m, in \u001b[0;36mSession._run_transaction\u001b[1;34m(self, access_mode, api, transaction_function, args, kwargs)\u001b[0m\n\u001b[0;32m    579\u001b[0m tx \u001b[38;5;241m=\u001b[39m \u001b[38;5;28mself\u001b[39m\u001b[38;5;241m.\u001b[39m_transaction\n\u001b[0;32m    580\u001b[0m \u001b[38;5;28;01mtry\u001b[39;00m:\n\u001b[1;32m--> 581\u001b[0m     result \u001b[38;5;241m=\u001b[39m \u001b[43mtransaction_function\u001b[49m\u001b[43m(\u001b[49m\u001b[43mtx\u001b[49m\u001b[43m,\u001b[49m\u001b[43m \u001b[49m\u001b[38;5;241;43m*\u001b[39;49m\u001b[43margs\u001b[49m\u001b[43m,\u001b[49m\u001b[43m \u001b[49m\u001b[38;5;241;43m*\u001b[39;49m\u001b[38;5;241;43m*\u001b[39;49m\u001b[43mkwargs\u001b[49m\u001b[43m)\u001b[49m\n\u001b[0;32m    582\u001b[0m \u001b[38;5;28;01mexcept\u001b[39;00m asyncio\u001b[38;5;241m.\u001b[39mCancelledError:\n\u001b[0;32m    583\u001b[0m     \u001b[38;5;66;03m# if cancellation callback has not been called yet:\u001b[39;00m\n\u001b[0;32m    584\u001b[0m     \u001b[38;5;28;01mif\u001b[39;00m \u001b[38;5;28mself\u001b[39m\u001b[38;5;241m.\u001b[39m_transaction \u001b[38;5;129;01mis\u001b[39;00m \u001b[38;5;129;01mnot\u001b[39;00m \u001b[38;5;28;01mNone\u001b[39;00m:\n",
      "File \u001b[1;32md:\\question-and-answering-system-for-raster-data\\LLMenv\\Lib\\site-packages\\neo4j\\_work\\query.py:144\u001b[0m, in \u001b[0;36munit_of_work.<locals>.wrapper.<locals>.wrapped\u001b[1;34m(*args, **kwargs)\u001b[0m\n\u001b[0;32m    143\u001b[0m \u001b[38;5;28;01mdef\u001b[39;00m \u001b[38;5;21mwrapped\u001b[39m(\u001b[38;5;241m*\u001b[39margs, \u001b[38;5;241m*\u001b[39m\u001b[38;5;241m*\u001b[39mkwargs):\n\u001b[1;32m--> 144\u001b[0m     \u001b[38;5;28;01mreturn\u001b[39;00m \u001b[43mf\u001b[49m\u001b[43m(\u001b[49m\u001b[38;5;241;43m*\u001b[39;49m\u001b[43margs\u001b[49m\u001b[43m,\u001b[49m\u001b[43m \u001b[49m\u001b[38;5;241;43m*\u001b[39;49m\u001b[38;5;241;43m*\u001b[39;49m\u001b[43mkwargs\u001b[49m\u001b[43m)\u001b[49m\n",
      "File \u001b[1;32md:\\question-and-answering-system-for-raster-data\\LLMenv\\Lib\\site-packages\\neo4j\\_sync\\driver.py:1305\u001b[0m, in \u001b[0;36m_work\u001b[1;34m(tx, query, parameters, transformer)\u001b[0m\n\u001b[0;32m   1299\u001b[0m \u001b[38;5;28;01mdef\u001b[39;00m \u001b[38;5;21m_work\u001b[39m(\n\u001b[0;32m   1300\u001b[0m     tx: ManagedTransaction,\n\u001b[0;32m   1301\u001b[0m     query: te\u001b[38;5;241m.\u001b[39mLiteralString,\n\u001b[0;32m   1302\u001b[0m     parameters: \u001b[38;5;28mdict\u001b[39m[\u001b[38;5;28mstr\u001b[39m, t\u001b[38;5;241m.\u001b[39mAny],\n\u001b[0;32m   1303\u001b[0m     transformer: t\u001b[38;5;241m.\u001b[39mCallable[[Result], t\u001b[38;5;241m.\u001b[39mUnion[_T]],\n\u001b[0;32m   1304\u001b[0m ) \u001b[38;5;241m-\u001b[39m\u001b[38;5;241m>\u001b[39m _T:\n\u001b[1;32m-> 1305\u001b[0m     res \u001b[38;5;241m=\u001b[39m \u001b[43mtx\u001b[49m\u001b[38;5;241;43m.\u001b[39;49m\u001b[43mrun\u001b[49m\u001b[43m(\u001b[49m\u001b[43mquery\u001b[49m\u001b[43m,\u001b[49m\u001b[43m \u001b[49m\u001b[43mparameters\u001b[49m\u001b[43m)\u001b[49m\n\u001b[0;32m   1306\u001b[0m     \u001b[38;5;28;01mreturn\u001b[39;00m transformer(res)\n",
      "File \u001b[1;32md:\\question-and-answering-system-for-raster-data\\LLMenv\\Lib\\site-packages\\neo4j\\_sync\\work\\transaction.py:195\u001b[0m, in \u001b[0;36mTransactionBase.run\u001b[1;34m(self, query, parameters, **kwparameters)\u001b[0m\n\u001b[0;32m    192\u001b[0m \u001b[38;5;28mself\u001b[39m\u001b[38;5;241m.\u001b[39m_results\u001b[38;5;241m.\u001b[39mappend(result)\n\u001b[0;32m    194\u001b[0m parameters \u001b[38;5;241m=\u001b[39m \u001b[38;5;28mdict\u001b[39m(parameters \u001b[38;5;129;01mor\u001b[39;00m {}, \u001b[38;5;241m*\u001b[39m\u001b[38;5;241m*\u001b[39mkwparameters)\n\u001b[1;32m--> 195\u001b[0m \u001b[43mresult\u001b[49m\u001b[38;5;241;43m.\u001b[39;49m\u001b[43m_tx_ready_run\u001b[49m\u001b[43m(\u001b[49m\u001b[43mquery\u001b[49m\u001b[43m,\u001b[49m\u001b[43m \u001b[49m\u001b[43mparameters\u001b[49m\u001b[43m)\u001b[49m\n\u001b[0;32m    197\u001b[0m \u001b[38;5;28;01mreturn\u001b[39;00m result\n",
      "File \u001b[1;32md:\\question-and-answering-system-for-raster-data\\LLMenv\\Lib\\site-packages\\neo4j\\_sync\\work\\result.py:175\u001b[0m, in \u001b[0;36mResult._tx_ready_run\u001b[1;34m(self, query, parameters)\u001b[0m\n\u001b[0;32m    171\u001b[0m \u001b[38;5;28;01mdef\u001b[39;00m \u001b[38;5;21m_tx_ready_run\u001b[39m(\u001b[38;5;28mself\u001b[39m, query, parameters):\n\u001b[0;32m    172\u001b[0m     \u001b[38;5;66;03m# BEGIN+RUN does not carry any extra on the RUN message.\u001b[39;00m\n\u001b[0;32m    173\u001b[0m     \u001b[38;5;66;03m# BEGIN {extra}\u001b[39;00m\n\u001b[0;32m    174\u001b[0m     \u001b[38;5;66;03m# RUN \"query\" {parameters} {extra}\u001b[39;00m\n\u001b[1;32m--> 175\u001b[0m     \u001b[38;5;28;43mself\u001b[39;49m\u001b[38;5;241;43m.\u001b[39;49m\u001b[43m_run\u001b[49m\u001b[43m(\u001b[49m\u001b[43mquery\u001b[49m\u001b[43m,\u001b[49m\u001b[43m \u001b[49m\u001b[43mparameters\u001b[49m\u001b[43m,\u001b[49m\u001b[43m \u001b[49m\u001b[38;5;28;43;01mNone\u001b[39;49;00m\u001b[43m,\u001b[49m\u001b[43m \u001b[49m\u001b[38;5;28;43;01mNone\u001b[39;49;00m\u001b[43m,\u001b[49m\u001b[43m \u001b[49m\u001b[38;5;28;43;01mNone\u001b[39;49;00m\u001b[43m,\u001b[49m\u001b[43m \u001b[49m\u001b[38;5;28;43;01mNone\u001b[39;49;00m\u001b[43m,\u001b[49m\u001b[43m \u001b[49m\u001b[38;5;28;43;01mNone\u001b[39;49;00m\u001b[43m,\u001b[49m\u001b[43m \u001b[49m\u001b[38;5;28;43;01mNone\u001b[39;49;00m\u001b[43m)\u001b[49m\n",
      "File \u001b[1;32md:\\question-and-answering-system-for-raster-data\\LLMenv\\Lib\\site-packages\\neo4j\\_sync\\work\\result.py:231\u001b[0m, in \u001b[0;36mResult._run\u001b[1;34m(self, query, parameters, db, imp_user, access_mode, bookmarks, notifications_min_severity, notifications_disabled_classifications)\u001b[0m\n\u001b[0;32m    229\u001b[0m \u001b[38;5;28mself\u001b[39m\u001b[38;5;241m.\u001b[39m_pull()\n\u001b[0;32m    230\u001b[0m \u001b[38;5;28mself\u001b[39m\u001b[38;5;241m.\u001b[39m_connection\u001b[38;5;241m.\u001b[39msend_all()\n\u001b[1;32m--> 231\u001b[0m \u001b[38;5;28;43mself\u001b[39;49m\u001b[38;5;241;43m.\u001b[39;49m\u001b[43m_attach\u001b[49m\u001b[43m(\u001b[49m\u001b[43m)\u001b[49m\n",
      "File \u001b[1;32md:\\question-and-answering-system-for-raster-data\\LLMenv\\Lib\\site-packages\\neo4j\\_sync\\work\\result.py:425\u001b[0m, in \u001b[0;36mResult._attach\u001b[1;34m(self)\u001b[0m\n\u001b[0;32m    423\u001b[0m \u001b[38;5;28;01mif\u001b[39;00m \u001b[38;5;28mself\u001b[39m\u001b[38;5;241m.\u001b[39m_exhausted \u001b[38;5;129;01mis\u001b[39;00m \u001b[38;5;28;01mFalse\u001b[39;00m:\n\u001b[0;32m    424\u001b[0m     \u001b[38;5;28;01mwhile\u001b[39;00m \u001b[38;5;28mself\u001b[39m\u001b[38;5;241m.\u001b[39m_attached \u001b[38;5;129;01mis\u001b[39;00m \u001b[38;5;28;01mFalse\u001b[39;00m:\n\u001b[1;32m--> 425\u001b[0m         \u001b[38;5;28;43mself\u001b[39;49m\u001b[38;5;241;43m.\u001b[39;49m\u001b[43m_connection\u001b[49m\u001b[38;5;241;43m.\u001b[39;49m\u001b[43mfetch_message\u001b[49m\u001b[43m(\u001b[49m\u001b[43m)\u001b[49m\n",
      "File \u001b[1;32md:\\question-and-answering-system-for-raster-data\\LLMenv\\Lib\\site-packages\\neo4j\\_sync\\io\\_common.py:184\u001b[0m, in \u001b[0;36mConnectionErrorHandler.__getattr__.<locals>.outer.<locals>.inner\u001b[1;34m(*args, **kwargs)\u001b[0m\n\u001b[0;32m    182\u001b[0m \u001b[38;5;28;01mdef\u001b[39;00m \u001b[38;5;21minner\u001b[39m(\u001b[38;5;241m*\u001b[39margs, \u001b[38;5;241m*\u001b[39m\u001b[38;5;241m*\u001b[39mkwargs):\n\u001b[0;32m    183\u001b[0m     \u001b[38;5;28;01mtry\u001b[39;00m:\n\u001b[1;32m--> 184\u001b[0m         \u001b[43mfunc\u001b[49m\u001b[43m(\u001b[49m\u001b[38;5;241;43m*\u001b[39;49m\u001b[43margs\u001b[49m\u001b[43m,\u001b[49m\u001b[43m \u001b[49m\u001b[38;5;241;43m*\u001b[39;49m\u001b[38;5;241;43m*\u001b[39;49m\u001b[43mkwargs\u001b[49m\u001b[43m)\u001b[49m\n\u001b[0;32m    185\u001b[0m     \u001b[38;5;28;01mexcept\u001b[39;00m (Neo4jError, ServiceUnavailable, SessionExpired) \u001b[38;5;28;01mas\u001b[39;00m exc:\n\u001b[0;32m    186\u001b[0m         \u001b[38;5;28;01massert\u001b[39;00m \u001b[38;5;129;01mnot\u001b[39;00m asyncio\u001b[38;5;241m.\u001b[39miscoroutinefunction(\u001b[38;5;28mself\u001b[39m\u001b[38;5;241m.\u001b[39m__on_error)\n",
      "File \u001b[1;32md:\\question-and-answering-system-for-raster-data\\LLMenv\\Lib\\site-packages\\neo4j\\_sync\\io\\_bolt.py:994\u001b[0m, in \u001b[0;36mBolt.fetch_message\u001b[1;34m(self)\u001b[0m\n\u001b[0;32m    990\u001b[0m \u001b[38;5;66;03m# Receive exactly one message\u001b[39;00m\n\u001b[0;32m    991\u001b[0m tag, fields \u001b[38;5;241m=\u001b[39m \u001b[38;5;28mself\u001b[39m\u001b[38;5;241m.\u001b[39minbox\u001b[38;5;241m.\u001b[39mpop(\n\u001b[0;32m    992\u001b[0m     hydration_hooks\u001b[38;5;241m=\u001b[39m\u001b[38;5;28mself\u001b[39m\u001b[38;5;241m.\u001b[39mresponses[\u001b[38;5;241m0\u001b[39m]\u001b[38;5;241m.\u001b[39mhydration_hooks\n\u001b[0;32m    993\u001b[0m )\n\u001b[1;32m--> 994\u001b[0m res \u001b[38;5;241m=\u001b[39m \u001b[38;5;28;43mself\u001b[39;49m\u001b[38;5;241;43m.\u001b[39;49m\u001b[43m_process_message\u001b[49m\u001b[43m(\u001b[49m\u001b[43mtag\u001b[49m\u001b[43m,\u001b[49m\u001b[43m \u001b[49m\u001b[43mfields\u001b[49m\u001b[43m)\u001b[49m\n\u001b[0;32m    995\u001b[0m \u001b[38;5;28mself\u001b[39m\u001b[38;5;241m.\u001b[39midle_since \u001b[38;5;241m=\u001b[39m monotonic()\n\u001b[0;32m    996\u001b[0m \u001b[38;5;28;01mreturn\u001b[39;00m res\n",
      "File \u001b[1;32md:\\question-and-answering-system-for-raster-data\\LLMenv\\Lib\\site-packages\\neo4j\\_sync\\io\\_bolt5.py:496\u001b[0m, in \u001b[0;36mBolt5x0._process_message\u001b[1;34m(self, tag, fields)\u001b[0m\n\u001b[0;32m    494\u001b[0m \u001b[38;5;28mself\u001b[39m\u001b[38;5;241m.\u001b[39m_server_state_manager\u001b[38;5;241m.\u001b[39mstate \u001b[38;5;241m=\u001b[39m \u001b[38;5;28mself\u001b[39m\u001b[38;5;241m.\u001b[39mbolt_states\u001b[38;5;241m.\u001b[39mFAILED\n\u001b[0;32m    495\u001b[0m \u001b[38;5;28;01mtry\u001b[39;00m:\n\u001b[1;32m--> 496\u001b[0m     \u001b[43mresponse\u001b[49m\u001b[38;5;241;43m.\u001b[39;49m\u001b[43mon_failure\u001b[49m\u001b[43m(\u001b[49m\u001b[43msummary_metadata\u001b[49m\u001b[43m \u001b[49m\u001b[38;5;129;43;01mor\u001b[39;49;00m\u001b[43m \u001b[49m\u001b[43m{\u001b[49m\u001b[43m}\u001b[49m\u001b[43m)\u001b[49m\n\u001b[0;32m    497\u001b[0m \u001b[38;5;28;01mexcept\u001b[39;00m (ServiceUnavailable, DatabaseUnavailable):\n\u001b[0;32m    498\u001b[0m     \u001b[38;5;28;01mif\u001b[39;00m \u001b[38;5;28mself\u001b[39m\u001b[38;5;241m.\u001b[39mpool:\n",
      "File \u001b[1;32md:\\question-and-answering-system-for-raster-data\\LLMenv\\Lib\\site-packages\\neo4j\\_sync\\io\\_common.py:254\u001b[0m, in \u001b[0;36mResponse.on_failure\u001b[1;34m(self, metadata)\u001b[0m\n\u001b[0;32m    252\u001b[0m handler \u001b[38;5;241m=\u001b[39m \u001b[38;5;28mself\u001b[39m\u001b[38;5;241m.\u001b[39mhandlers\u001b[38;5;241m.\u001b[39mget(\u001b[38;5;124m\"\u001b[39m\u001b[38;5;124mon_summary\u001b[39m\u001b[38;5;124m\"\u001b[39m)\n\u001b[0;32m    253\u001b[0m Util\u001b[38;5;241m.\u001b[39mcallback(handler)\n\u001b[1;32m--> 254\u001b[0m \u001b[38;5;28;01mraise\u001b[39;00m \u001b[38;5;28mself\u001b[39m\u001b[38;5;241m.\u001b[39m_hydrate_error(metadata)\n",
      "\u001b[1;31mCypherSyntaxError\u001b[0m: {code: Neo.ClientError.Statement.SyntaxError} {message: Invalid input 'Task': expected 'FOREACH', 'ALTER', 'ORDER BY', 'CALL', 'USING PERIODIC COMMIT', 'CREATE', 'LOAD CSV', 'START DATABASE', 'STOP DATABASE', 'DEALLOCATE', 'DELETE', 'DENY', 'DETACH', 'DROP', 'DRYRUN', 'FINISH', 'GRANT', 'INSERT', 'LIMIT', 'MATCH', 'MERGE', 'NODETACH', 'OFFSET', 'OPTIONAL', 'REALLOCATE', 'REMOVE', 'RENAME', 'RETURN', 'REVOKE', 'ENABLE SERVER', 'SET', 'SHOW', 'SKIP', 'TERMINATE', 'UNWIND', 'USE' or 'WITH' (line 1, column 1 (offset: 0))\r\n\"Task:Generate Cypher statement to query a graph database.\"\r\n ^}"
     ]
    }
   ],
   "source": [
    "question = \"Is there a specific download link available for accessing the satellite data related to Frankfurt within the S2_L2A_MAJA dataset?\"\n",
    "\n",
    "response = chain.invoke({\"query\": question})\n",
    "\n",
    "print(\"Response:\", response)"
   ]
  }
 ],
 "metadata": {
  "kernelspec": {
   "display_name": "LLMenv",
   "language": "python",
   "name": "python3"
  },
  "language_info": {
   "codemirror_mode": {
    "name": "ipython",
    "version": 3
   },
   "file_extension": ".py",
   "mimetype": "text/x-python",
   "name": "python",
   "nbconvert_exporter": "python",
   "pygments_lexer": "ipython3",
   "version": "3.12.3"
  }
 },
 "nbformat": 4,
 "nbformat_minor": 2
}
